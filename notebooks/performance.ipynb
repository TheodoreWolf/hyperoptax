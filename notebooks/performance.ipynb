{
 "cells": [
  {
   "cell_type": "markdown",
   "metadata": {},
   "source": [
    "# Benchmarking Hyperoptax"
   ]
  },
  {
   "cell_type": "code",
   "execution_count": 1,
   "metadata": {},
   "outputs": [],
   "source": [
    "import time\n",
    "\n",
    "import bayex\n",
    "import jax\n",
    "import jax.numpy as jnp\n",
    "import matplotlib.pyplot as plt\n",
    "from bayes_opt import BayesianOptimization\n",
    "\n",
    "from hyperoptax.bayesian import BayesianOptimizer\n",
    "from hyperoptax.spaces import LinearSpace"
   ]
  },
  {
   "cell_type": "markdown",
   "metadata": {},
   "source": [
    "# Comparing to other Bayesian Optimization libraries"
   ]
  },
  {
   "cell_type": "code",
   "execution_count": 2,
   "metadata": {},
   "outputs": [],
   "source": [
    "# Bounded region of parameter space\n",
    "bo_bounds = {\"x\": (2, 4), \"y\": (0, 2)}\n",
    "bayex_bounds = {\"x\": bayex.domain.Real(2.0, 4.0), \"y\": bayex.domain.Real(0.0, 2.0)}\n",
    "hoptax_bounds = {\"x\": LinearSpace(2.0, 4.0, 100), \"y\": LinearSpace(0.0, 2.0, 100)}\n",
    "\n",
    "\n",
    "def f(x, y):\n",
    "    return -(1.4 - 3 * x) * jnp.sin(18 * y)\n",
    "\n",
    "\n",
    "# Bayesian-Optimization\n",
    "bo_optimizer = BayesianOptimization(\n",
    "    f=f,\n",
    "    pbounds=bo_bounds,\n",
    "    random_state=1,\n",
    ")\n",
    "\n",
    "# bayex\n",
    "bayex_optimizer = bayex.Optimizer(domain=bayex_bounds, maximize=True, acq=\"PI\")\n",
    "\n",
    "# hyperoptax\n",
    "hoptax_optimizer = BayesianOptimizer(hoptax_bounds, f=f)"
   ]
  },
  {
   "cell_type": "markdown",
   "metadata": {},
   "source": [
    "### Bayesian-optimization"
   ]
  },
  {
   "cell_type": "code",
   "execution_count": 3,
   "metadata": {},
   "outputs": [
    {
     "name": "stdout",
     "output_type": "stream",
     "text": [
      "|   iter    |  target   |     x     |     y     |\n",
      "-------------------------------------------------\n",
      "| \u001b[39m1        \u001b[39m | \u001b[39m5.0895161\u001b[39m | \u001b[39m2.8340440\u001b[39m | \u001b[39m1.4406489\u001b[39m |\n",
      "| \u001b[39m2        \u001b[39m | \u001b[39m-4.572064\u001b[39m | \u001b[39m2.0002287\u001b[39m | \u001b[39m0.6046651\u001b[39m |\n",
      "| \u001b[39m3        \u001b[39m | \u001b[39m-0.995176\u001b[39m | \u001b[39m2.2935117\u001b[39m | \u001b[39m0.1846771\u001b[39m |\n",
      "| \u001b[39m4        \u001b[39m | \u001b[39m-5.414693\u001b[39m | \u001b[39m3.1038088\u001b[39m | \u001b[39m1.7034514\u001b[39m |\n",
      "| \u001b[35m5        \u001b[39m | \u001b[35m6.2081246\u001b[39m | \u001b[35m3.1140982\u001b[39m | \u001b[35m1.4461141\u001b[39m |\n",
      "| \u001b[39m6        \u001b[39m | \u001b[39m4.2967567\u001b[39m | \u001b[39m2.6356989\u001b[39m | \u001b[39m0.4835297\u001b[39m |\n",
      "| \u001b[39m7        \u001b[39m | \u001b[39m2.4481501\u001b[39m | \u001b[39m2.2680780\u001b[39m | \u001b[39m1.7714478\u001b[39m |\n",
      "| \u001b[39m8        \u001b[39m | \u001b[39m-4.903664\u001b[39m | \u001b[39m2.1455481\u001b[39m | \u001b[39m0.6236598\u001b[39m |\n",
      "| \u001b[39m9        \u001b[39m | \u001b[39m-4.865993\u001b[39m | \u001b[39m2.6553993\u001b[39m | \u001b[39m1.6989593\u001b[39m |\n",
      "| \u001b[39m10       \u001b[39m | \u001b[39m-5.888856\u001b[39m | \u001b[39m2.9050529\u001b[39m | \u001b[39m0.9952135\u001b[39m |\n",
      "| \u001b[39m11       \u001b[39m | \u001b[39m2.1080741\u001b[39m | \u001b[39m2.9865215\u001b[39m | \u001b[39m1.4119638\u001b[39m |\n",
      "| \u001b[39m12       \u001b[39m | \u001b[39m5.5928030\u001b[39m | \u001b[39m3.0482069\u001b[39m | \u001b[39m1.1769021\u001b[39m |\n",
      "| \u001b[39m13       \u001b[39m | \u001b[39m-4.827859\u001b[39m | \u001b[39m3.9719134\u001b[39m | \u001b[39m0.5500982\u001b[39m |\n",
      "| \u001b[39m14       \u001b[39m | \u001b[39m3.4555957\u001b[39m | \u001b[39m2.0855980\u001b[39m | \u001b[39m1.4402426\u001b[39m |\n",
      "| \u001b[39m15       \u001b[39m | \u001b[39m-7.947717\u001b[39m | \u001b[39m3.1186634\u001b[39m | \u001b[39m1.3115306\u001b[39m |\n",
      "| \u001b[39m16       \u001b[39m | \u001b[39m-1.756889\u001b[39m | \u001b[39m2.1420128\u001b[39m | \u001b[39m1.3764246\u001b[39m |\n",
      "| \u001b[39m17       \u001b[39m | \u001b[39m1.9615039\u001b[39m | \u001b[39m2.2338609\u001b[39m | \u001b[39m0.7191868\u001b[39m |\n",
      "| \u001b[35m18       \u001b[39m | \u001b[35m7.3689827\u001b[39m | \u001b[35m2.9458789\u001b[39m | \u001b[35m0.7929524\u001b[39m |\n",
      "| \u001b[35m19       \u001b[39m | \u001b[35m9.8067951\u001b[39m | \u001b[35m3.7356811\u001b[39m | \u001b[35m0.0868715\u001b[39m |\n",
      "| \u001b[39m20       \u001b[39m | \u001b[39m-2.914014\u001b[39m | \u001b[39m2.1617872\u001b[39m | \u001b[39m0.6642324\u001b[39m |\n",
      "| \u001b[39m21       \u001b[39m | \u001b[39m7.0518093\u001b[39m | \u001b[39m3.7254099\u001b[39m | \u001b[39m0.0447616\u001b[39m |\n",
      "| \u001b[39m22       \u001b[39m | \u001b[39m8.9512090\u001b[39m | \u001b[39m3.6821794\u001b[39m | \u001b[39m0.1084889\u001b[39m |\n",
      "| \u001b[39m23       \u001b[39m | \u001b[39m1.1771789\u001b[39m | \u001b[39m3.7427064\u001b[39m | \u001b[39m0.1678626\u001b[39m |\n",
      "| \u001b[39m24       \u001b[39m | \u001b[39m8.1252956\u001b[39m | \u001b[39m3.6346069\u001b[39m | \u001b[39m0.0569697\u001b[39m |\n",
      "| \u001b[39m25       \u001b[39m | \u001b[39m7.3031883\u001b[39m | \u001b[39m3.5878675\u001b[39m | \u001b[39m0.1248332\u001b[39m |\n",
      "| \u001b[39m26       \u001b[39m | \u001b[39m7.0405941\u001b[39m | \u001b[39m2.9122357\u001b[39m | \u001b[39m1.4676921\u001b[39m |\n",
      "| \u001b[39m27       \u001b[39m | \u001b[39m-0.117184\u001b[39m | \u001b[39m2.9596129\u001b[39m | \u001b[39m0.6972611\u001b[39m |\n",
      "| \u001b[39m28       \u001b[39m | \u001b[39m2.1586396\u001b[39m | \u001b[39m2.7093793\u001b[39m | \u001b[39m0.0181452\u001b[39m |\n",
      "| \u001b[39m29       \u001b[39m | \u001b[39m5.2426638\u001b[39m | \u001b[39m3.3128402\u001b[39m | \u001b[39m1.4329922\u001b[39m |\n",
      "| \u001b[39m30       \u001b[39m | \u001b[39m8.0527381\u001b[39m | \u001b[39m3.2014061\u001b[39m | \u001b[39m1.4942222\u001b[39m |\n",
      "| \u001b[39m31       \u001b[39m | \u001b[39m5.3750295\u001b[39m | \u001b[39m3.1200451\u001b[39m | \u001b[39m1.5296132\u001b[39m |\n",
      "| \u001b[39m32       \u001b[39m | \u001b[39m2.9168560\u001b[39m | \u001b[39m3.5997493\u001b[39m | \u001b[39m0.7156616\u001b[39m |\n",
      "| \u001b[39m33       \u001b[39m | \u001b[39m3.3140840\u001b[39m | \u001b[39m3.2871851\u001b[39m | \u001b[39m1.5484385\u001b[39m |\n",
      "| \u001b[39m34       \u001b[39m | \u001b[39m9.2965688\u001b[39m | \u001b[39m3.8268411\u001b[39m | \u001b[39m0.0652117\u001b[39m |\n",
      "| \u001b[39m35       \u001b[39m | \u001b[39m3.4361906\u001b[39m | \u001b[39m3.9119521\u001b[39m | \u001b[39m0.0188279\u001b[39m |\n",
      "| \u001b[39m36       \u001b[39m | \u001b[39m5.1517338\u001b[39m | \u001b[39m3.5195786\u001b[39m | \u001b[39m0.0331888\u001b[39m |\n",
      "| \u001b[39m37       \u001b[39m | \u001b[39m9.7940874\u001b[39m | \u001b[39m3.7326769\u001b[39m | \u001b[39m0.0888427\u001b[39m |\n",
      "| \u001b[39m38       \u001b[39m | \u001b[39m4.9432034\u001b[39m | \u001b[39m3.0541849\u001b[39m | \u001b[39m0.8343122\u001b[39m |\n",
      "| \u001b[39m39       \u001b[39m | \u001b[39m-0.080319\u001b[39m | \u001b[39m2.8830891\u001b[39m | \u001b[39m1.5714118\u001b[39m |\n",
      "| \u001b[39m40       \u001b[39m | \u001b[39m6.9999542\u001b[39m | \u001b[39m2.8260871\u001b[39m | \u001b[39m0.7936696\u001b[39m |\n",
      "| \u001b[39m41       \u001b[39m | \u001b[39m4.0754933\u001b[39m | \u001b[39m2.7063884\u001b[39m | \u001b[39m0.7343378\u001b[39m |\n",
      "| \u001b[39m42       \u001b[39m | \u001b[39m-1.991685\u001b[39m | \u001b[39m3.4526305\u001b[39m | \u001b[39m0.1869891\u001b[39m |\n",
      "| \u001b[39m43       \u001b[39m | \u001b[39m5.8648509\u001b[39m | \u001b[39m3.8949508\u001b[39m | \u001b[39m0.1408218\u001b[39m |\n",
      "| \u001b[39m44       \u001b[39m | \u001b[39m0.2875752\u001b[39m | \u001b[39m2.0      \u001b[39m | \u001b[39m1.5673209\u001b[39m |\n",
      "| \u001b[39m45       \u001b[39m | \u001b[39m3.5315537\u001b[39m | \u001b[39m3.1337719\u001b[39m | \u001b[39m1.0725934\u001b[39m |\n",
      "| \u001b[39m46       \u001b[39m | \u001b[39m-2.651976\u001b[39m | \u001b[39m3.4684301\u001b[39m | \u001b[39m1.3796565\u001b[39m |\n",
      "| \u001b[39m47       \u001b[39m | \u001b[39m0.3094548\u001b[39m | \u001b[39m2.7128717\u001b[39m | \u001b[39m0.8701124\u001b[39m |\n",
      "| \u001b[39m48       \u001b[39m | \u001b[39m-6.095872\u001b[39m | \u001b[39m2.5540154\u001b[39m | \u001b[39m0.6236924\u001b[39m |\n",
      "| \u001b[39m49       \u001b[39m | \u001b[39m1.6047917\u001b[39m | \u001b[39m3.3809741\u001b[39m | \u001b[39m0.0102555\u001b[39m |\n",
      "| \u001b[39m50       \u001b[39m | \u001b[39m1.9245251\u001b[39m | \u001b[39m2.7107472\u001b[39m | \u001b[39m0.3651720\u001b[39m |\n",
      "| \u001b[39m51       \u001b[39m | \u001b[39m5.9460301\u001b[39m | \u001b[39m2.7734505\u001b[39m | \u001b[39m0.8152356\u001b[39m |\n",
      "| \u001b[39m52       \u001b[39m | \u001b[39m2.0218794\u001b[39m | \u001b[39m3.2261459\u001b[39m | \u001b[39m0.8589573\u001b[39m |\n",
      "| \u001b[39m53       \u001b[39m | \u001b[39m-6.570925\u001b[39m | \u001b[39m2.8292923\u001b[39m | \u001b[39m1.2876475\u001b[39m |\n",
      "| \u001b[39m54       \u001b[39m | \u001b[39m-9.379160\u001b[39m | \u001b[39m4.0      \u001b[39m | \u001b[39m0.2348730\u001b[39m |\n",
      "| \u001b[39m55       \u001b[39m | \u001b[39m-1.919538\u001b[39m | \u001b[39m2.7774236\u001b[39m | \u001b[39m0.5391857\u001b[39m |\n",
      "| \u001b[39m56       \u001b[39m | \u001b[39m1.7608100\u001b[39m | \u001b[39m2.0724378\u001b[39m | \u001b[39m1.4170516\u001b[39m |\n",
      "| \u001b[39m57       \u001b[39m | \u001b[39m2.7261464\u001b[39m | \u001b[39m2.5382238\u001b[39m | \u001b[39m0.3742942\u001b[39m |\n",
      "| \u001b[39m58       \u001b[39m | \u001b[39m1.0709887\u001b[39m | \u001b[39m2.2180291\u001b[39m | \u001b[39m1.7567336\u001b[39m |\n",
      "| \u001b[39m59       \u001b[39m | \u001b[39m-2.762958\u001b[39m | \u001b[39m2.3604687\u001b[39m | \u001b[39m1.9480771\u001b[39m |\n",
      "| \u001b[35m60       \u001b[39m | \u001b[35m9.8078794\u001b[39m | \u001b[35m3.7359656\u001b[39m | \u001b[35m0.0871606\u001b[39m |\n",
      "| \u001b[39m61       \u001b[39m | \u001b[39m-4.491847\u001b[39m | \u001b[39m2.2697046\u001b[39m | \u001b[39m0.9271015\u001b[39m |\n",
      "| \u001b[39m62       \u001b[39m | \u001b[39m-7.820461\u001b[39m | \u001b[39m3.6302940\u001b[39m | \u001b[39m0.9264663\u001b[39m |\n",
      "| \u001b[39m63       \u001b[39m | \u001b[39m-7.729811\u001b[39m | \u001b[39m3.4716344\u001b[39m | \u001b[39m0.5808371\u001b[39m |\n",
      "| \u001b[39m64       \u001b[39m | \u001b[39m0.0      \u001b[39m | \u001b[39m2.9627339\u001b[39m | \u001b[39m0.0      \u001b[39m |\n",
      "| \u001b[39m65       \u001b[39m | \u001b[39m1.5792896\u001b[39m | \u001b[39m2.2103402\u001b[39m | \u001b[39m1.5537577\u001b[39m |\n",
      "| \u001b[39m66       \u001b[39m | \u001b[39m-10.51285\u001b[39m | \u001b[39m4.0      \u001b[39m | \u001b[39m2.0      \u001b[39m |\n",
      "| \u001b[39m67       \u001b[39m | \u001b[39m-1.713329\u001b[39m | \u001b[39m4.0      \u001b[39m | \u001b[39m1.3872441\u001b[39m |\n",
      "| \u001b[39m68       \u001b[39m | \u001b[39m-8.970683\u001b[39m | \u001b[39m3.4816813\u001b[39m | \u001b[39m2.0      \u001b[39m |\n",
      "| \u001b[39m69       \u001b[39m | \u001b[39m-6.907929\u001b[39m | \u001b[39m3.1449358\u001b[39m | \u001b[39m0.6406438\u001b[39m |\n",
      "| \u001b[39m70       \u001b[39m | \u001b[39m0.0      \u001b[39m | \u001b[39m2.0      \u001b[39m | \u001b[39m0.0      \u001b[39m |\n",
      "| \u001b[39m71       \u001b[39m | \u001b[39m0.7392269\u001b[39m | \u001b[39m2.5807034\u001b[39m | \u001b[39m0.1680426\u001b[39m |\n",
      "| \u001b[39m72       \u001b[39m | \u001b[39m-4.562182\u001b[39m | \u001b[39m2.0      \u001b[39m | \u001b[39m2.0      \u001b[39m |\n",
      "| \u001b[39m73       \u001b[39m | \u001b[39m-6.126883\u001b[39m | \u001b[39m4.0      \u001b[39m | \u001b[39m1.0129594\u001b[39m |\n",
      "| \u001b[39m74       \u001b[39m | \u001b[39m5.3100595\u001b[39m | \u001b[39m2.6696277\u001b[39m | \u001b[39m0.4009050\u001b[39m |\n",
      "| \u001b[39m75       \u001b[39m | \u001b[39m-9.284814\u001b[39m | \u001b[39m3.7432245\u001b[39m | \u001b[39m1.6394786\u001b[39m |\n",
      "| \u001b[39m76       \u001b[39m | \u001b[39m-7.137330\u001b[39m | \u001b[39m2.8654979\u001b[39m | \u001b[39m2.0      \u001b[39m |\n",
      "| \u001b[39m77       \u001b[39m | \u001b[39m-1.348716\u001b[39m | \u001b[39m2.4723187\u001b[39m | \u001b[39m1.3837038\u001b[39m |\n",
      "| \u001b[39m78       \u001b[39m | \u001b[39m-7.058913\u001b[39m | \u001b[39m3.0925218\u001b[39m | \u001b[39m0.2362470\u001b[39m |\n",
      "| \u001b[39m79       \u001b[39m | \u001b[39m-0.996604\u001b[39m | \u001b[39m3.3209947\u001b[39m | \u001b[39m1.0407170\u001b[39m |\n",
      "| \u001b[39m80       \u001b[39m | \u001b[39m0.0      \u001b[39m | \u001b[39m2.4714297\u001b[39m | \u001b[39m0.0      \u001b[39m |\n",
      "| \u001b[39m81       \u001b[39m | \u001b[39m-4.596786\u001b[39m | \u001b[39m2.0      \u001b[39m | \u001b[39m0.2597227\u001b[39m |\n",
      "| \u001b[39m82       \u001b[39m | \u001b[39m-5.779589\u001b[39m | \u001b[39m3.7398992\u001b[39m | \u001b[39m0.6631711\u001b[39m |\n",
      "| \u001b[39m83       \u001b[39m | \u001b[39m-5.729219\u001b[39m | \u001b[39m2.3868014\u001b[39m | \u001b[39m1.6522794\u001b[39m |\n",
      "| \u001b[39m84       \u001b[39m | \u001b[39m0.5184371\u001b[39m | \u001b[39m2.0      \u001b[39m | \u001b[39m1.0534721\u001b[39m |\n",
      "| \u001b[39m85       \u001b[39m | \u001b[39m6.0309629\u001b[39m | \u001b[39m2.4997711\u001b[39m | \u001b[39m1.1261390\u001b[39m |\n",
      "| \u001b[39m86       \u001b[39m | \u001b[39m4.5123615\u001b[39m | \u001b[39m2.3858690\u001b[39m | \u001b[39m1.1716952\u001b[39m |\n",
      "| \u001b[39m87       \u001b[39m | \u001b[39m-3.867000\u001b[39m | \u001b[39m2.4881178\u001b[39m | \u001b[39m1.0087832\u001b[39m |\n",
      "| \u001b[39m88       \u001b[39m | \u001b[39m0.1761053\u001b[39m | \u001b[39m2.5357805\u001b[39m | \u001b[39m1.2201541\u001b[39m |\n",
      "| \u001b[39m89       \u001b[39m | \u001b[39m-6.026251\u001b[39m | \u001b[39m3.7481022\u001b[39m | \u001b[39m1.2583295\u001b[39m |\n",
      "| \u001b[39m90       \u001b[39m | \u001b[39m-7.552453\u001b[39m | \u001b[39m3.1057135\u001b[39m | \u001b[39m0.9430033\u001b[39m |\n",
      "| \u001b[39m91       \u001b[39m | \u001b[39m4.3792924\u001b[39m | \u001b[39m3.2227405\u001b[39m | \u001b[39m1.4272740\u001b[39m |\n",
      "| \u001b[39m92       \u001b[39m | \u001b[39m8.8872652\u001b[39m | \u001b[39m3.8242650\u001b[39m | \u001b[39m0.1144921\u001b[39m |\n",
      "| \u001b[39m93       \u001b[39m | \u001b[39m6.7754683\u001b[39m | \u001b[39m3.3808190\u001b[39m | \u001b[39m0.8234020\u001b[39m |\n",
      "| \u001b[39m94       \u001b[39m | \u001b[39m9.0203809\u001b[39m | \u001b[39m3.4762411\u001b[39m | \u001b[39m0.7877866\u001b[39m |\n",
      "| \u001b[39m95       \u001b[39m | \u001b[39m0.2915253\u001b[39m | \u001b[39m3.4576725\u001b[39m | \u001b[39m0.8708593\u001b[39m |\n",
      "| \u001b[39m96       \u001b[39m | \u001b[39m6.0583691\u001b[39m | \u001b[39m3.4089252\u001b[39m | \u001b[39m0.7401581\u001b[39m |\n",
      "| \u001b[39m97       \u001b[39m | \u001b[39m5.8388338\u001b[39m | \u001b[39m3.5043809\u001b[39m | \u001b[39m0.7367659\u001b[39m |\n",
      "| \u001b[39m98       \u001b[39m | \u001b[39m5.2576909\u001b[39m | \u001b[39m2.3389192\u001b[39m | \u001b[39m0.4163599\u001b[39m |\n",
      "| \u001b[39m99       \u001b[39m | \u001b[39m2.8638093\u001b[39m | \u001b[39m2.2236012\u001b[39m | \u001b[39m0.3809771\u001b[39m |\n",
      "| \u001b[39m100      \u001b[39m | \u001b[39m-1.517114\u001b[39m | \u001b[39m2.3344667\u001b[39m | \u001b[39m0.5388304\u001b[39m |\n",
      "| \u001b[39m101      \u001b[39m | \u001b[39m-3.053880\u001b[39m | \u001b[39m2.3925645\u001b[39m | \u001b[39m0.3181265\u001b[39m |\n",
      "| \u001b[39m102      \u001b[39m | \u001b[39m0.0      \u001b[39m | \u001b[39m2.2179819\u001b[39m | \u001b[39m0.0      \u001b[39m |\n",
      "| \u001b[39m103      \u001b[39m | \u001b[39m8.1786108\u001b[39m | \u001b[39m3.3043655\u001b[39m | \u001b[39m0.7697731\u001b[39m |\n",
      "=================================================\n",
      "Time taken: 3.21 seconds\n",
      "Best value:  9.807879447937012\n"
     ]
    }
   ],
   "source": [
    "start = time.time()\n",
    "bo_optimizer.maximize(\n",
    "    init_points=3,\n",
    "    n_iter=100,\n",
    ")\n",
    "\n",
    "bo_time = time.time() - start\n",
    "bo_max = bo_optimizer.max[\"target\"]\n",
    "print(f\"Time taken: {bo_time:.2f} seconds\")\n",
    "print(\"Best value: \", bo_max)"
   ]
  },
  {
   "cell_type": "markdown",
   "metadata": {},
   "source": [
    "### Bayex"
   ]
  },
  {
   "cell_type": "code",
   "execution_count": 4,
   "metadata": {},
   "outputs": [
    {
     "name": "stdout",
     "output_type": "stream",
     "text": [
      "Time taken: 5.05 seconds\n",
      "Best value:  10.569071\n"
     ]
    }
   ],
   "source": [
    "start = time.time()\n",
    "# Define some prior evaluations to initialise the GP.\n",
    "params = {\"x\": [0.0, 0.5, 1.0], \"y\": [0.0, 0.0, 0.0]}\n",
    "ys = [f(x, y) for x, y in zip(params[\"x\"], params[\"y\"])]\n",
    "opt_state = bayex_optimizer.init(ys, params)\n",
    "\n",
    "# Sample new points using Jax PRNG approach.\n",
    "ori_key = jax.random.key(42)\n",
    "for step in range(97):\n",
    "    key = jax.random.fold_in(ori_key, step)\n",
    "    new_params = bayex_optimizer.sample(key, opt_state)\n",
    "    y_new = f(**new_params)\n",
    "    opt_state = bayex_optimizer.fit(opt_state, y_new, new_params)\n",
    "\n",
    "bayex_time = time.time() - start\n",
    "bayex_max = opt_state.best_score\n",
    "print(f\"Time taken: {bayex_time:.2f} seconds\")\n",
    "print(\"Best value: \", bayex_max)"
   ]
  },
  {
   "cell_type": "markdown",
   "metadata": {},
   "source": [
    "### Hyperoptax"
   ]
  },
  {
   "cell_type": "code",
   "execution_count": 5,
   "metadata": {},
   "outputs": [
    {
     "name": "stdout",
     "output_type": "stream",
     "text": [
      "Time taken: 0.52 seconds\n",
      "Best value:  10.589436\n"
     ]
    }
   ],
   "source": [
    "start = time.time()\n",
    "result = hoptax_optimizer.optimize(n_iterations=100, n_vmap=5, jit=True)\n",
    "\n",
    "hoptax_time = time.time() - start\n",
    "hoptax_max = hoptax_optimizer.max[\"target\"]\n",
    "print(f\"Time taken: {hoptax_time:.2f} seconds\")\n",
    "print(\"Best value: \", hoptax_max)"
   ]
  },
  {
   "cell_type": "code",
   "execution_count": 6,
   "metadata": {},
   "outputs": [
    {
     "data": {
      "image/png": "[encoded data removed]",
      "text/plain": [
       "<Figure size 640x480 with 1 Axes>"
      ]
     },
     "metadata": {},
     "output_type": "display_data"
    }
   ],
   "source": [
    "# plot the results\n",
    "times = (bo_time, bayex_time, hoptax_time)\n",
    "scores = (bo_max, bayex_max, hoptax_max)\n",
    "\n",
    "for _time, _score in zip(times, scores):\n",
    "    plt.scatter(\n",
    "        _time,\n",
    "        _score,\n",
    "        200,\n",
    "        marker=\"X\",\n",
    "    )\n",
    "\n",
    "plt.xlabel(\"Time (s)\")\n",
    "plt.ylabel(\"Score\")\n",
    "plt.title(\"Performance Comparison\")\n",
    "plt.legend([\"Bayesian-Optimization\", \"Bayex\", \"Hyperoptax\"])\n",
    "plt.show()"
   ]
  },
  {
   "cell_type": "markdown",
   "metadata": {},
   "source": [
    "# What's better iterations or parallisations?"
   ]
  },
  {
   "cell_type": "code",
   "execution_count": null,
   "metadata": {},
   "outputs": [],
   "source": []
  }
 ],
 "metadata": {
  "kernelspec": {
   "display_name": ".venv",
   "language": "python",
   "name": "python3"
  },
  "language_info": {
   "codemirror_mode": {
    "name": "ipython",
    "version": 3
   },
   "file_extension": ".py",
   "mimetype": "text/x-python",
   "name": "python",
   "nbconvert_exporter": "python",
   "pygments_lexer": "ipython3",
   "version": "3.10.16"
  }
 },
 "nbformat": 4,
 "nbformat_minor": 2
}
