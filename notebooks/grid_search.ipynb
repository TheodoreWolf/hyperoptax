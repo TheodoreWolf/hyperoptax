{
 "cells": [
  {
   "cell_type": "markdown",
   "metadata": {},
   "source": [
    "# Grid search example with hyperoptax"
   ]
  },
  {
   "cell_type": "code",
   "execution_count": 1,
   "metadata": {},
   "outputs": [],
   "source": [
    "import time\n",
    "\n",
    "import jax\n",
    "import jax.numpy as jnp\n",
    "import flax.linen as nn\n",
    "from flax.training import train_state\n",
    "import optax\n",
    "import matplotlib.pyplot as plt\n",
    "\n",
    "from hyperoptax.grid_search import GridSearch, RandomSearch\n",
    "from hyperoptax.spaces import LinearSpace, LogSpace\n",
    "\n",
    "key = jax.random.PRNGKey(0)\n"
   ]
  },
  {
   "cell_type": "code",
   "execution_count": 2,
   "metadata": {},
   "outputs": [],
   "source": [
    "# make a basic model\n",
    "class Model(nn.Module):\n",
    "    @nn.compact\n",
    "    def __call__(self, x):\n",
    "        x = nn.Dense(10)(x)\n",
    "        x = nn.relu(x)\n",
    "        return nn.Dense(1)(x)\n",
    "\n",
    "\n",
    "# make a basic dataset\n",
    "key, key_data = jax.random.split(key, 2)\n",
    "x = jax.random.uniform(key_data, (1000, 10))\n",
    "y = 5 * x.mean(axis=1) ** 2 + 2\n",
    "xtrain = x[:800]\n",
    "ytrain = y[:800]\n",
    "xtest = x[800:]\n",
    "ytest = y[800:]\n"
   ]
  },
  {
   "cell_type": "code",
   "execution_count": 3,
   "metadata": {},
   "outputs": [
    {
     "data": {
      "image/png": "[encoded data removed]",
      "text/plain": [
       "<Figure size 640x480 with 1 Axes>"
      ]
     },
     "metadata": {},
     "output_type": "display_data"
    }
   ],
   "source": [
    "# end to end loop\n",
    "def make_and_train_model(learning_rate, final_lr_pct, n_epochs=100):\n",
    "    key = jax.random.PRNGKey(0)\n",
    "    key, key_init = jax.random.split(key, 2)\n",
    "    model = Model()\n",
    "    # make a train state\n",
    "    ts = train_state.TrainState.create(\n",
    "        apply_fn=model.apply,\n",
    "        params=model.init(key_init, jnp.zeros((10,))),\n",
    "        tx=optax.adamw(\n",
    "            learning_rate=optax.linear_schedule(\n",
    "                init_value=learning_rate,\n",
    "                end_value=final_lr_pct,\n",
    "                transition_steps=n_epochs,\n",
    "            )\n",
    "        ),\n",
    "    )\n",
    "\n",
    "    # learning loop\n",
    "    def train_model(ts, n_epochs):\n",
    "        def _train_step(ts, carry):\n",
    "            def _loss(params):\n",
    "                y_pred = ts.apply_fn(params, xtrain)\n",
    "                return jnp.mean((y_pred - ytrain) ** 2)\n",
    "\n",
    "            loss, grads = jax.value_and_grad(_loss)(ts.params)\n",
    "            ts = ts.apply_gradients(grads=grads)\n",
    "            return ts, loss\n",
    "\n",
    "        def _eval_step(ts, carry):\n",
    "            y_pred = ts.apply_fn(ts.params, xtest)\n",
    "            return ts, jnp.mean((y_pred - ytest) ** 2)\n",
    "\n",
    "        def _epoch_step(ts, carry):\n",
    "            ts, loss_train = _train_step(ts, carry)\n",
    "            ts, loss_eval = _eval_step(ts, carry)\n",
    "            return ts, (loss_train, loss_eval)\n",
    "\n",
    "        ts, losses = jax.lax.scan(_epoch_step, ts, None, n_epochs)\n",
    "        return ts, losses\n",
    "\n",
    "    return train_model(ts, n_epochs)\n",
    "\n",
    "\n",
    "# Plot the losses\n",
    "ts, losses = make_and_train_model(1e-3, 0.01, 100)\n",
    "plt.plot(losses[0], label=\"train\")\n",
    "plt.plot(losses[1], label=\"test\")\n",
    "plt.xlabel(\"Epoch\")\n",
    "plt.ylabel(\"Loss\")\n",
    "plt.legend()\n",
    "plt.show()"
   ]
  },
  {
   "cell_type": "code",
   "execution_count": 4,
   "metadata": {},
   "outputs": [
    {
     "name": "stdout",
     "output_type": "stream",
     "text": [
      "Optimal result: [0.00599484 0.05949495]\n",
      "Time taken: 3.05 seconds to sweep 100 configs\n",
      "Optimal loss: 0.17982173\n"
     ]
    }
   ],
   "source": [
    "def wrapper(learning_rate, final_lr_pct):\n",
    "    # get the last validation loss and add a minus as we maximise by default\n",
    "    return -make_and_train_model(learning_rate, final_lr_pct)[1][1][-1]\n",
    "\n",
    "\n",
    "search_space = {\n",
    "    \"learning_rate\": LogSpace(1e-4, 1e-2, 10),\n",
    "    \"final_lr_pct\": LinearSpace(0.01, 0.99, 100),\n",
    "}\n",
    "n_iterations = 100\n",
    "\n",
    "search = GridSearch(search_space, wrapper, n_parallel=10)\n",
    "\n",
    "start = time.time()\n",
    "result = search.optimise(n_iterations).flatten()\n",
    "end = time.time()\n",
    "\n",
    "print(\"Optimal result:\", result)\n",
    "print(f\"Time taken: {end - start:.2f} seconds to sweep {n_iterations} configs\")\n",
    "print(\"Optimal loss:\", -wrapper(result[0], result[1]))"
   ]
  },
  {
   "cell_type": "markdown",
   "metadata": {},
   "source": [
    "# Random search"
   ]
  },
  {
   "cell_type": "code",
   "execution_count": 5,
   "metadata": {},
   "outputs": [
    {
     "name": "stdout",
     "output_type": "stream",
     "text": [
      "Optimal result: [0.00215444 0.6930303 ]\n",
      "Optimal loss: 0.17411242\n"
     ]
    }
   ],
   "source": [
    "search = RandomSearch(search_space, wrapper, n_parallel=10)\n",
    "result = search.optimise(n_iterations).flatten()\n",
    "\n",
    "print(\"Optimal result:\", result)\n",
    "print(\"Optimal loss:\", -wrapper(result[0], result[1]))"
   ]
  },
  {
   "cell_type": "code",
   "execution_count": null,
   "metadata": {},
   "outputs": [],
   "source": []
  }
 ],
 "metadata": {
  "kernelspec": {
   "display_name": ".venv",
   "language": "python",
   "name": "python3"
  },
  "language_info": {
   "codemirror_mode": {
    "name": "ipython",
    "version": 3
   },
   "file_extension": ".py",
   "mimetype": "text/x-python",
   "name": "python",
   "nbconvert_exporter": "python",
   "pygments_lexer": "ipython3",
   "version": "3.10.16"
  }
 },
 "nbformat": 4,
 "nbformat_minor": 2
}
