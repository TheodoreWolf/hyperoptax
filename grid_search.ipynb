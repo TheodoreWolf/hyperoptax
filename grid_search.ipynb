{
 "cells": [
  {
   "cell_type": "markdown",
   "metadata": {},
   "source": [
    "# Grid search example with hyperoptax"
   ]
  },
  {
   "cell_type": "code",
   "execution_count": 9,
   "metadata": {},
   "outputs": [],
   "source": [
    "from functools import partial\n",
    "import time\n",
    "\n",
    "import jax\n",
    "import flax\n",
    "import jax.numpy as jnp\n",
    "import flax.linen as nn\n",
    "from flax.training import train_state\n",
    "import optax\n",
    "import matplotlib.pyplot as plt\n",
    "from tqdm import tqdm\n",
    "\n",
    "\n",
    "from hyperoptax.grid_search import GridSearch, RandomSearch\n",
    "from hyperoptax.spaces import LinearSpace, LogSpace\n",
    "\n",
    "key = jax.random.PRNGKey(0)\n"
   ]
  },
  {
   "cell_type": "code",
   "execution_count": 10,
   "metadata": {},
   "outputs": [],
   "source": [
    "# make a basic model\n",
    "class Model(flax.linen.Module):\n",
    "    @flax.linen.compact\n",
    "    def __call__(self, x):\n",
    "        x = nn.Dense(10)(x)\n",
    "        x = nn.relu(x)\n",
    "        return nn.Dense(1)(x)\n",
    "\n",
    "\n",
    "# make a basic dataset\n",
    "key, key_data = jax.random.split(key, 2)\n",
    "x = jax.random.uniform(key_data, (10000, 10))\n",
    "y = 5 * x**2 +2\n"
   ]
  },
  {
   "cell_type": "code",
   "execution_count": 11,
   "metadata": {},
   "outputs": [
    {
     "data": {
      "text/plain": [
       "Array(-1.9990423, dtype=float32)"
      ]
     },
     "execution_count": 11,
     "metadata": {},
     "output_type": "execute_result"
    }
   ],
   "source": [
    "# end to end loop\n",
    "def make_and_train_model(learning_rate, final_lr_pct):\n",
    "    key = jax.random.PRNGKey(0)\n",
    "    n_epochs = 1000\n",
    "    key, key_init = jax.random.split(key, 2)\n",
    "    model = Model()\n",
    "    # make a train state\n",
    "    ts = train_state.TrainState.create(\n",
    "        apply_fn=model.apply,\n",
    "        params=model.init(key_init, jnp.zeros((10,))),\n",
    "        tx=optax.adamw(learning_rate=optax.linear_schedule(\n",
    "            init_value=learning_rate,\n",
    "            end_value=final_lr_pct,\n",
    "            transition_steps=n_epochs,\n",
    "        )),\n",
    "    )\n",
    "    # learning loop\n",
    "    def train_model(ts, n_epochs):\n",
    "        def _train_step(ts, carry):\n",
    "            def _loss(params):\n",
    "                y_pred = ts.apply_fn(params, x)\n",
    "                return jnp.mean((y_pred - y)**2)\n",
    "            loss, grads = jax.value_and_grad(_loss)(ts.params)\n",
    "            ts = ts.apply_gradients(grads=grads)\n",
    "            return ts, loss\n",
    "\n",
    "        ts, losses = jax.lax.scan(_train_step, ts, None, n_epochs)\n",
    "        return ts, losses\n",
    "        \n",
    "    ts, losses = train_model(ts, n_epochs)\n",
    "    # return the negative loss to maximise\n",
    "    return -losses[-1]\n",
    "\n",
    "# returns the final loss\n",
    "make_and_train_model(1e-3, 0.01)\n"
   ]
  },
  {
   "cell_type": "code",
   "execution_count": 12,
   "metadata": {},
   "outputs": [
    {
     "ename": "TypeError",
     "evalue": "meshgrid requires ndarray or scalar arguments, got <class 'hyperoptax.spaces.LogSpace'> at position 0.",
     "output_type": "error",
     "traceback": [
      "\u001b[0;31m---------------------------------------------------------------------------\u001b[0m",
      "\u001b[0;31mTypeError\u001b[0m                                 Traceback (most recent call last)",
      "Cell \u001b[0;32mIn[12], line 5\u001b[0m\n\u001b[1;32m      1\u001b[0m search_space \u001b[38;5;241m=\u001b[39m {\n\u001b[1;32m      2\u001b[0m     \u001b[38;5;124m\"\u001b[39m\u001b[38;5;124mlearning_rate\u001b[39m\u001b[38;5;124m\"\u001b[39m: LogSpace(\u001b[38;5;241m1e-4\u001b[39m, \u001b[38;5;241m1e-2\u001b[39m, \u001b[38;5;241m10\u001b[39m),\n\u001b[1;32m      3\u001b[0m     \u001b[38;5;124m\"\u001b[39m\u001b[38;5;124mfinal_lr_pct\u001b[39m\u001b[38;5;124m\"\u001b[39m: LinearSpace(\u001b[38;5;241m0.01\u001b[39m, \u001b[38;5;241m0.99\u001b[39m, \u001b[38;5;241m100\u001b[39m),\n\u001b[1;32m      4\u001b[0m }\n\u001b[0;32m----> 5\u001b[0m search \u001b[38;5;241m=\u001b[39m \u001b[43mGridSearch\u001b[49m\u001b[43m(\u001b[49m\u001b[43msearch_space\u001b[49m\u001b[43m,\u001b[49m\u001b[43m \u001b[49m\u001b[43mmake_and_train_model\u001b[49m\u001b[43m,\u001b[49m\u001b[43m \u001b[49m\u001b[43mn_parallel\u001b[49m\u001b[38;5;241;43m=\u001b[39;49m\u001b[38;5;241;43m100\u001b[39;49m\u001b[43m)\u001b[49m\n\u001b[1;32m      6\u001b[0m search\u001b[38;5;241m.\u001b[39moptimise()\n",
      "File \u001b[0;32m~/hyperoptax/src/hyperoptax/grid_search.py:21\u001b[0m, in \u001b[0;36m__init__\u001b[0;34m(self, domain, f, n_parallel)\u001b[0m\n\u001b[1;32m     16\u001b[0m n_args = len(inspect.signature(f).parameters)\n\u001b[1;32m     17\u001b[0m n_points = np.prod([len(domain[k]) for k in domain])\n\u001b[1;32m     18\u001b[0m assert n_args == len(domain), (\n\u001b[1;32m     19\u001b[0m     f\"Function must have the same number of arguments as the domain, \"\n\u001b[1;32m     20\u001b[0m     f\"got {n_args} arguments and {len(domain)} domains.\"\n\u001b[0;32m---> 21\u001b[0m )\n\u001b[1;32m     22\u001b[0m grid = jnp.array(jnp.meshgrid(*domain.values()))\n\u001b[1;32m     23\u001b[0m self.domain = grid.reshape(n_args, n_points).T\n",
      "File \u001b[0;32m~/hyperoptax/.venv/lib/python3.10/site-packages/jax/_src/numpy/lax_numpy.py:6092\u001b[0m, in \u001b[0;36mmeshgrid\u001b[0;34m(copy, sparse, indexing, *xi)\u001b[0m\n\u001b[1;32m   6029\u001b[0m \u001b[38;5;129m@export\u001b[39m\n\u001b[1;32m   6030\u001b[0m \u001b[38;5;28;01mdef\u001b[39;00m\u001b[38;5;250m \u001b[39m\u001b[38;5;21mmeshgrid\u001b[39m(\u001b[38;5;241m*\u001b[39mxi: ArrayLike, copy: \u001b[38;5;28mbool\u001b[39m \u001b[38;5;241m=\u001b[39m \u001b[38;5;28;01mTrue\u001b[39;00m, sparse: \u001b[38;5;28mbool\u001b[39m \u001b[38;5;241m=\u001b[39m \u001b[38;5;28;01mFalse\u001b[39;00m,\n\u001b[1;32m   6031\u001b[0m              indexing: \u001b[38;5;28mstr\u001b[39m \u001b[38;5;241m=\u001b[39m \u001b[38;5;124m'\u001b[39m\u001b[38;5;124mxy\u001b[39m\u001b[38;5;124m'\u001b[39m) \u001b[38;5;241m-\u001b[39m\u001b[38;5;241m>\u001b[39m \u001b[38;5;28mlist\u001b[39m[Array]:\n\u001b[1;32m   6032\u001b[0m \u001b[38;5;250m  \u001b[39m\u001b[38;5;124;03m\"\"\"Construct N-dimensional grid arrays from N 1-dimensional vectors.\u001b[39;00m\n\u001b[1;32m   6033\u001b[0m \n\u001b[1;32m   6034\u001b[0m \u001b[38;5;124;03m  JAX implementation of :func:`numpy.meshgrid`.\u001b[39;00m\n\u001b[0;32m   (...)\u001b[0m\n\u001b[1;32m   6090\u001b[0m \u001b[38;5;124;03m     [10 20 30]]\u001b[39;00m\n\u001b[1;32m   6091\u001b[0m \u001b[38;5;124;03m  \"\"\"\u001b[39;00m\n\u001b[0;32m-> 6092\u001b[0m   args \u001b[38;5;241m=\u001b[39m \u001b[38;5;28mlist\u001b[39m(\u001b[43mutil\u001b[49m\u001b[38;5;241;43m.\u001b[39;49m\u001b[43mensure_arraylike_tuple\u001b[49m\u001b[43m(\u001b[49m\u001b[38;5;124;43m\"\u001b[39;49m\u001b[38;5;124;43mmeshgrid\u001b[39;49m\u001b[38;5;124;43m\"\u001b[39;49m\u001b[43m,\u001b[49m\u001b[43m \u001b[49m\u001b[38;5;28;43mtuple\u001b[39;49m\u001b[43m(\u001b[49m\u001b[43mxi\u001b[49m\u001b[43m)\u001b[49m\u001b[43m)\u001b[49m)\n\u001b[1;32m   6093\u001b[0m   \u001b[38;5;28;01mif\u001b[39;00m \u001b[38;5;129;01mnot\u001b[39;00m copy:\n\u001b[1;32m   6094\u001b[0m     \u001b[38;5;28;01mraise\u001b[39;00m \u001b[38;5;167;01mValueError\u001b[39;00m(\u001b[38;5;124m\"\u001b[39m\u001b[38;5;124mjax.numpy.meshgrid only supports copy=True\u001b[39m\u001b[38;5;124m\"\u001b[39m)\n",
      "File \u001b[0;32m~/hyperoptax/.venv/lib/python3.10/site-packages/jax/_src/numpy/util.py:166\u001b[0m, in \u001b[0;36mensure_arraylike_tuple\u001b[0;34m(fun_name, tup)\u001b[0m\n\u001b[1;32m    161\u001b[0m \u001b[38;5;28;01mdef\u001b[39;00m\u001b[38;5;250m \u001b[39m\u001b[38;5;21mensure_arraylike_tuple\u001b[39m(fun_name: \u001b[38;5;28mstr\u001b[39m, tup: Sequence[Any]) \u001b[38;5;241m-\u001b[39m\u001b[38;5;241m>\u001b[39m \u001b[38;5;28mtuple\u001b[39m[Array, \u001b[38;5;241m.\u001b[39m\u001b[38;5;241m.\u001b[39m\u001b[38;5;241m.\u001b[39m]:\n\u001b[1;32m    162\u001b[0m \u001b[38;5;250m  \u001b[39m\u001b[38;5;124;03m\"\"\"Check that argument elements are arraylike and convert to a tuple of arrays.\u001b[39;00m\n\u001b[1;32m    163\u001b[0m \n\u001b[1;32m    164\u001b[0m \u001b[38;5;124;03m  This is useful because ensure_arraylike with a single argument returns a single array.\u001b[39;00m\n\u001b[1;32m    165\u001b[0m \u001b[38;5;124;03m  \"\"\"\u001b[39;00m\n\u001b[0;32m--> 166\u001b[0m   \u001b[43mcheck_arraylike\u001b[49m\u001b[43m(\u001b[49m\u001b[43mfun_name\u001b[49m\u001b[43m,\u001b[49m\u001b[43m \u001b[49m\u001b[38;5;241;43m*\u001b[39;49m\u001b[43mtup\u001b[49m\u001b[43m)\u001b[49m\n\u001b[1;32m    167\u001b[0m   \u001b[38;5;28;01mreturn\u001b[39;00m \u001b[38;5;28mtuple\u001b[39m(_arraylike_asarray(arg) \u001b[38;5;28;01mfor\u001b[39;00m arg \u001b[38;5;129;01min\u001b[39;00m tup)\n",
      "File \u001b[0;32m~/hyperoptax/.venv/lib/python3.10/site-packages/jax/_src/numpy/util.py:181\u001b[0m, in \u001b[0;36mcheck_arraylike\u001b[0;34m(fun_name, emit_warning, stacklevel, *args)\u001b[0m\n\u001b[1;32m    178\u001b[0m   warnings\u001b[38;5;241m.\u001b[39mwarn(msg \u001b[38;5;241m+\u001b[39m \u001b[38;5;124m\"\u001b[39m\u001b[38;5;124m In a future JAX release this will be an error.\u001b[39m\u001b[38;5;124m\"\u001b[39m,\n\u001b[1;32m    179\u001b[0m                 category\u001b[38;5;241m=\u001b[39m\u001b[38;5;167;01mDeprecationWarning\u001b[39;00m, stacklevel\u001b[38;5;241m=\u001b[39mstacklevel)\n\u001b[1;32m    180\u001b[0m \u001b[38;5;28;01melse\u001b[39;00m:\n\u001b[0;32m--> 181\u001b[0m   \u001b[38;5;28;01mraise\u001b[39;00m \u001b[38;5;167;01mTypeError\u001b[39;00m(msg\u001b[38;5;241m.\u001b[39mformat(fun_name, \u001b[38;5;28mtype\u001b[39m(arg), pos))\n",
      "\u001b[0;31mTypeError\u001b[0m: meshgrid requires ndarray or scalar arguments, got <class 'hyperoptax.spaces.LogSpace'> at position 0."
     ]
    }
   ],
   "source": [
    "search_space = {\n",
    "    \"learning_rate\": LogSpace(1e-4, 1e-2, 10),\n",
    "    \"final_lr_pct\": LinearSpace(0.01, 0.99, 100),\n",
    "}\n",
    "search = GridSearch(search_space, make_and_train_model, n_parallel=100)\n",
    "search.optimise()"
   ]
  },
  {
   "cell_type": "code",
   "execution_count": 7,
   "metadata": {},
   "outputs": [
    {
     "name": "stdout",
     "output_type": "stream",
     "text": [
      "Optimal result: [[9.9999997e-05 8.3161616e-01]]\n",
      "Time taken: 143.59 seconds to sweep 1e3 configs\n"
     ]
    }
   ],
   "source": [
    "search_space = {\n",
    "    \"learning_rate\": jnp.linspace(1e-4, 1e-2, 10),\n",
    "    \"final_lr_pct\": jnp.linspace(0.01, 0.99, 100),\n",
    "}\n",
    "search = GridSearch(search_space, make_and_train_model, n_parallel=10)\n",
    "start = time.time()\n",
    "\n",
    "result = search.optimise()\n",
    "print(\"Optimal result:\", result)\n",
    "end = time.time()\n",
    "print(f\"Time taken: {end - start:.2f} seconds to sweep 1e3 configs\")"
   ]
  },
  {
   "cell_type": "code",
   "execution_count": 8,
   "metadata": {},
   "outputs": [
    {
     "name": "stdout",
     "output_type": "stream",
     "text": [
      "Optimal result: [[0.0045    0.6930303]]\n"
     ]
    }
   ],
   "source": [
    "search = RandomSearch(search_space, make_and_train_model, n_parallel=10)\n",
    "result = search.optimise(100)\n",
    "print(\"Optimal result:\", result)"
   ]
  }
 ],
 "metadata": {
  "kernelspec": {
   "display_name": ".venv",
   "language": "python",
   "name": "python3"
  },
  "language_info": {
   "codemirror_mode": {
    "name": "ipython",
    "version": 3
   },
   "file_extension": ".py",
   "mimetype": "text/x-python",
   "name": "python",
   "nbconvert_exporter": "python",
   "pygments_lexer": "ipython3",
   "version": "3.10.16"
  }
 },
 "nbformat": 4,
 "nbformat_minor": 2
}
